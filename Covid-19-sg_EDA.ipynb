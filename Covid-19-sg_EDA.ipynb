{
 "cells": [
  {
   "cell_type": "code",
   "execution_count": 6,
   "metadata": {},
   "outputs": [],
   "source": [
    "import gmaps\n",
    "import gmaps.datasets\n",
    "import pandas as pd\n",
    "import numpy as np\n",
    "import matplotlib.pyplot as plt\n",
    "import seaborn as sns\n",
    "import json\n",
    "%matplotlib inline\n",
    "sns.set_style(\"darkgrid\")"
   ]
  },
  {
   "cell_type": "code",
   "execution_count": 8,
   "metadata": {},
   "outputs": [],
   "source": [
    "def read_json(filename):\n",
    "    datafile = open(filename, 'r',  encoding='utf-8')\n",
    "    return json.loads(datafile.read())"
   ]
  },
  {
   "cell_type": "code",
   "execution_count": 20,
   "metadata": {},
   "outputs": [],
   "source": [
    "data = read_json('covid-sg.json')"
   ]
  },
  {
   "cell_type": "code",
   "execution_count": 26,
   "metadata": {},
   "outputs": [],
   "source": [
    "list_pro = []\n",
    "for dic in data['features']:\n",
    "    list_pro.append(dic['properties'])"
   ]
  },
  {
   "cell_type": "code",
   "execution_count": 28,
   "metadata": {},
   "outputs": [],
   "source": [
    "covid = pd.DataFrame(list_pro)"
   ]
  },
  {
   "cell_type": "code",
   "execution_count": 248,
   "metadata": {},
   "outputs": [],
   "source": [
    "gen = covid[(covid.gender == 'Male') | (covid.gender== 'Female')]['gender'].value_counts()"
   ]
  },
  {
   "cell_type": "code",
   "execution_count": 64,
   "metadata": {
    "scrolled": true
   },
   "outputs": [
    {
     "data": {
      "text/html": [
       "<div>\n",
       "<style scoped>\n",
       "    .dataframe tbody tr th:only-of-type {\n",
       "        vertical-align: middle;\n",
       "    }\n",
       "\n",
       "    .dataframe tbody tr th {\n",
       "        vertical-align: top;\n",
       "    }\n",
       "\n",
       "    .dataframe thead th {\n",
       "        text-align: right;\n",
       "    }\n",
       "</style>\n",
       "<table border=\"1\" class=\"dataframe\">\n",
       "  <thead>\n",
       "    <tr style=\"text-align: right;\">\n",
       "      <th></th>\n",
       "      <th>id</th>\n",
       "      <th>title</th>\n",
       "      <th>confirmed</th>\n",
       "      <th>discharged</th>\n",
       "      <th>hospital</th>\n",
       "      <th>source</th>\n",
       "      <th>nationality</th>\n",
       "      <th>residenceAreas</th>\n",
       "      <th>placesVisited</th>\n",
       "      <th>age</th>\n",
       "      <th>death</th>\n",
       "      <th>transmissionSource</th>\n",
       "      <th>gender</th>\n",
       "      <th>linkedClusters</th>\n",
       "    </tr>\n",
       "  </thead>\n",
       "  <tbody>\n",
       "    <tr>\n",
       "      <th>0</th>\n",
       "      <td>case-1</td>\n",
       "      <td>Case 1</td>\n",
       "      <td>2020-01-23</td>\n",
       "      <td>2020-02-19</td>\n",
       "      <td>Singapore General Hospital</td>\n",
       "      <td>https://www.straitstimes.com/singapore/health/...</td>\n",
       "      <td>Chinese</td>\n",
       "      <td>[Shangri-La Rasa Sentosa Resort &amp; Spa]</td>\n",
       "      <td>[]</td>\n",
       "      <td>66</td>\n",
       "      <td></td>\n",
       "      <td>Imported</td>\n",
       "      <td>Male</td>\n",
       "      <td>[]</td>\n",
       "    </tr>\n",
       "    <tr>\n",
       "      <th>1</th>\n",
       "      <td>case-2</td>\n",
       "      <td>Case 2</td>\n",
       "      <td>2020-01-24</td>\n",
       "      <td>2020-02-07</td>\n",
       "      <td>National Centre for Infectious Diseases</td>\n",
       "      <td>https://www.straitstimes.com/singapore/health/...</td>\n",
       "      <td>Chinese</td>\n",
       "      <td>[J8 hotel, 8 Townshend Road]</td>\n",
       "      <td>[Raffles Hospital, Tan Tock Seng Emergency Dep...</td>\n",
       "      <td>53</td>\n",
       "      <td></td>\n",
       "      <td>Imported</td>\n",
       "      <td>Female</td>\n",
       "      <td>[]</td>\n",
       "    </tr>\n",
       "    <tr>\n",
       "      <th>2</th>\n",
       "      <td>case-3</td>\n",
       "      <td>Case 3</td>\n",
       "      <td>2020-01-24</td>\n",
       "      <td>2020-02-21</td>\n",
       "      <td>Singapore General Hospital</td>\n",
       "      <td>https://www.straitstimes.com/singapore/health/...</td>\n",
       "      <td>Chinese</td>\n",
       "      <td>[]</td>\n",
       "      <td>[]</td>\n",
       "      <td>37</td>\n",
       "      <td></td>\n",
       "      <td>Imported</td>\n",
       "      <td>Male</td>\n",
       "      <td>[]</td>\n",
       "    </tr>\n",
       "    <tr>\n",
       "      <th>3</th>\n",
       "      <td>case-4</td>\n",
       "      <td>Case 4</td>\n",
       "      <td>2020-01-25</td>\n",
       "      <td>2020-02-12</td>\n",
       "      <td>Sengkang General Hospital</td>\n",
       "      <td>https://www.moh.gov.sg/news-highlights/details...</td>\n",
       "      <td>Chinese</td>\n",
       "      <td>[Village Hotel Sentosa]</td>\n",
       "      <td>[USS, Vivocity]</td>\n",
       "      <td>36</td>\n",
       "      <td></td>\n",
       "      <td>Imported</td>\n",
       "      <td>Male</td>\n",
       "      <td>[]</td>\n",
       "    </tr>\n",
       "    <tr>\n",
       "      <th>4</th>\n",
       "      <td>case-5</td>\n",
       "      <td>Case 5</td>\n",
       "      <td>2020-01-27</td>\n",
       "      <td>2020-02-18</td>\n",
       "      <td>National Centre for Infectious Diseases</td>\n",
       "      <td>https://www.moh.gov.sg/news-highlights/details...</td>\n",
       "      <td>Chinese</td>\n",
       "      <td>[Ceylon Road]</td>\n",
       "      <td>[Tan Tock Seng Hospital]</td>\n",
       "      <td>56</td>\n",
       "      <td></td>\n",
       "      <td>Imported</td>\n",
       "      <td>Female</td>\n",
       "      <td>[]</td>\n",
       "    </tr>\n",
       "    <tr>\n",
       "      <th>...</th>\n",
       "      <td>...</td>\n",
       "      <td>...</td>\n",
       "      <td>...</td>\n",
       "      <td>...</td>\n",
       "      <td>...</td>\n",
       "      <td>...</td>\n",
       "      <td>...</td>\n",
       "      <td>...</td>\n",
       "      <td>...</td>\n",
       "      <td>...</td>\n",
       "      <td>...</td>\n",
       "      <td>...</td>\n",
       "      <td>...</td>\n",
       "      <td>...</td>\n",
       "    </tr>\n",
       "    <tr>\n",
       "      <th>6585</th>\n",
       "      <td>case-6586</td>\n",
       "      <td>Case 6586</td>\n",
       "      <td>2020-04-19</td>\n",
       "      <td></td>\n",
       "      <td>National Centre for Infectious Diseases</td>\n",
       "      <td>https://www.channelnewsasia.com/news/singapore...</td>\n",
       "      <td>Bangladeshi (Work Permit holder)</td>\n",
       "      <td>[]</td>\n",
       "      <td>[]</td>\n",
       "      <td>35</td>\n",
       "      <td></td>\n",
       "      <td>Local</td>\n",
       "      <td>Male</td>\n",
       "      <td>[]</td>\n",
       "    </tr>\n",
       "    <tr>\n",
       "      <th>6586</th>\n",
       "      <td>case-6587</td>\n",
       "      <td>Case 6587</td>\n",
       "      <td>2020-04-19</td>\n",
       "      <td></td>\n",
       "      <td>National Centre for Infectious Diseases</td>\n",
       "      <td>https://www.channelnewsasia.com/news/singapore...</td>\n",
       "      <td>Singapore Citizen</td>\n",
       "      <td>[]</td>\n",
       "      <td>[]</td>\n",
       "      <td>54</td>\n",
       "      <td></td>\n",
       "      <td>Local</td>\n",
       "      <td>Male</td>\n",
       "      <td>[]</td>\n",
       "    </tr>\n",
       "    <tr>\n",
       "      <th>6587</th>\n",
       "      <td>case-6588</td>\n",
       "      <td>Case 6588</td>\n",
       "      <td>2020-04-19</td>\n",
       "      <td></td>\n",
       "      <td>National Centre for Infectious Diseases</td>\n",
       "      <td>https://www.channelnewsasia.com/news/singapore...</td>\n",
       "      <td>Bangladeshi (S Pass holder)</td>\n",
       "      <td>[]</td>\n",
       "      <td>[]</td>\n",
       "      <td>47</td>\n",
       "      <td></td>\n",
       "      <td>Local</td>\n",
       "      <td>Male</td>\n",
       "      <td>[]</td>\n",
       "    </tr>\n",
       "    <tr>\n",
       "      <th>9681</th>\n",
       "      <td>case-9682</td>\n",
       "      <td>Case 9682</td>\n",
       "      <td>2020-04-22</td>\n",
       "      <td></td>\n",
       "      <td></td>\n",
       "      <td>https://www.channelnewsasia.com/news/singapore...</td>\n",
       "      <td></td>\n",
       "      <td>[]</td>\n",
       "      <td>[]</td>\n",
       "      <td>81</td>\n",
       "      <td>2020-04-27</td>\n",
       "      <td></td>\n",
       "      <td>Male</td>\n",
       "      <td>[]</td>\n",
       "    </tr>\n",
       "    <tr>\n",
       "      <th>11579</th>\n",
       "      <td>case-11580</td>\n",
       "      <td>Case 11580</td>\n",
       "      <td>2020-04-24</td>\n",
       "      <td></td>\n",
       "      <td>National Centre for Infectious Diseases</td>\n",
       "      <td>https://www.channelnewsasia.com/news/singapore...</td>\n",
       "      <td></td>\n",
       "      <td>[]</td>\n",
       "      <td>[]</td>\n",
       "      <td>43</td>\n",
       "      <td></td>\n",
       "      <td></td>\n",
       "      <td>Female</td>\n",
       "      <td>[]</td>\n",
       "    </tr>\n",
       "  </tbody>\n",
       "</table>\n",
       "<p>6535 rows × 14 columns</p>\n",
       "</div>"
      ],
      "text/plain": [
       "               id       title   confirmed  discharged  \\\n",
       "0          case-1      Case 1  2020-01-23  2020-02-19   \n",
       "1          case-2      Case 2  2020-01-24  2020-02-07   \n",
       "2          case-3      Case 3  2020-01-24  2020-02-21   \n",
       "3          case-4      Case 4  2020-01-25  2020-02-12   \n",
       "4          case-5      Case 5  2020-01-27  2020-02-18   \n",
       "...           ...         ...         ...         ...   \n",
       "6585    case-6586   Case 6586  2020-04-19               \n",
       "6586    case-6587   Case 6587  2020-04-19               \n",
       "6587    case-6588   Case 6588  2020-04-19               \n",
       "9681    case-9682   Case 9682  2020-04-22               \n",
       "11579  case-11580  Case 11580  2020-04-24               \n",
       "\n",
       "                                      hospital  \\\n",
       "0                   Singapore General Hospital   \n",
       "1      National Centre for Infectious Diseases   \n",
       "2                   Singapore General Hospital   \n",
       "3                    Sengkang General Hospital   \n",
       "4      National Centre for Infectious Diseases   \n",
       "...                                        ...   \n",
       "6585   National Centre for Infectious Diseases   \n",
       "6586   National Centre for Infectious Diseases   \n",
       "6587   National Centre for Infectious Diseases   \n",
       "9681                                             \n",
       "11579  National Centre for Infectious Diseases   \n",
       "\n",
       "                                                  source  \\\n",
       "0      https://www.straitstimes.com/singapore/health/...   \n",
       "1      https://www.straitstimes.com/singapore/health/...   \n",
       "2      https://www.straitstimes.com/singapore/health/...   \n",
       "3      https://www.moh.gov.sg/news-highlights/details...   \n",
       "4      https://www.moh.gov.sg/news-highlights/details...   \n",
       "...                                                  ...   \n",
       "6585   https://www.channelnewsasia.com/news/singapore...   \n",
       "6586   https://www.channelnewsasia.com/news/singapore...   \n",
       "6587   https://www.channelnewsasia.com/news/singapore...   \n",
       "9681   https://www.channelnewsasia.com/news/singapore...   \n",
       "11579  https://www.channelnewsasia.com/news/singapore...   \n",
       "\n",
       "                            nationality  \\\n",
       "0                               Chinese   \n",
       "1                               Chinese   \n",
       "2                               Chinese   \n",
       "3                               Chinese   \n",
       "4                               Chinese   \n",
       "...                                 ...   \n",
       "6585   Bangladeshi (Work Permit holder)   \n",
       "6586                  Singapore Citizen   \n",
       "6587        Bangladeshi (S Pass holder)   \n",
       "9681                                      \n",
       "11579                                     \n",
       "\n",
       "                               residenceAreas  \\\n",
       "0      [Shangri-La Rasa Sentosa Resort & Spa]   \n",
       "1                [J8 hotel, 8 Townshend Road]   \n",
       "2                                          []   \n",
       "3                     [Village Hotel Sentosa]   \n",
       "4                               [Ceylon Road]   \n",
       "...                                       ...   \n",
       "6585                                       []   \n",
       "6586                                       []   \n",
       "6587                                       []   \n",
       "9681                                       []   \n",
       "11579                                      []   \n",
       "\n",
       "                                           placesVisited age       death  \\\n",
       "0                                                     []  66               \n",
       "1      [Raffles Hospital, Tan Tock Seng Emergency Dep...  53               \n",
       "2                                                     []  37               \n",
       "3                                        [USS, Vivocity]  36               \n",
       "4                               [Tan Tock Seng Hospital]  56               \n",
       "...                                                  ...  ..         ...   \n",
       "6585                                                  []  35               \n",
       "6586                                                  []  54               \n",
       "6587                                                  []  47               \n",
       "9681                                                  []  81  2020-04-27   \n",
       "11579                                                 []  43               \n",
       "\n",
       "      transmissionSource  gender linkedClusters  \n",
       "0               Imported    Male             []  \n",
       "1               Imported  Female             []  \n",
       "2               Imported    Male             []  \n",
       "3               Imported    Male             []  \n",
       "4               Imported  Female             []  \n",
       "...                  ...     ...            ...  \n",
       "6585               Local    Male             []  \n",
       "6586               Local    Male             []  \n",
       "6587               Local    Male             []  \n",
       "9681                        Male             []  \n",
       "11579                     Female             []  \n",
       "\n",
       "[6535 rows x 14 columns]"
      ]
     },
     "execution_count": 64,
     "metadata": {},
     "output_type": "execute_result"
    }
   ],
   "source": [
    "covid[(covid.gender == 'Male') | (covid.gender== 'Female')]"
   ]
  },
  {
   "cell_type": "code",
   "execution_count": 250,
   "metadata": {},
   "outputs": [
    {
     "data": {
      "text/plain": [
       "Text(0.5, 1.0, 'Gender')"
      ]
     },
     "execution_count": 250,
     "metadata": {},
     "output_type": "execute_result"
    },
    {
     "data": {
      "image/png": "[encoded data removed]",
      "text/plain": [
       "<Figure size 720x720 with 1 Axes>"
      ]
     },
     "metadata": {},
     "output_type": "display_data"
    }
   ],
   "source": [
    "plt.figure(figsize=(10,10))\n",
    "sns.barplot(x= gen.index,y = gen.values)\n",
    "plt.title(\"Gender\")"
   ]
  },
  {
   "cell_type": "code",
   "execution_count": 241,
   "metadata": {},
   "outputs": [
    {
     "data": {
      "text/plain": [
       "2020-04-20    1426\n",
       "2020-04-17    1207\n",
       "2020-04-21    1111\n",
       "2020-04-23    1037\n",
       "2020-04-22    1016\n",
       "              ... \n",
       "2020-02-27       2\n",
       "2020-02-01       1\n",
       "2020-02-23       1\n",
       "2020-01-23       1\n",
       "2020-01-25       1\n",
       "Name: confirmed, Length: 91, dtype: int64"
      ]
     },
     "execution_count": 241,
     "metadata": {},
     "output_type": "execute_result"
    }
   ],
   "source": [
    "covid.confirmed.value_counts()"
   ]
  },
  {
   "cell_type": "code",
   "execution_count": 251,
   "metadata": {},
   "outputs": [
    {
     "data": {
      "text/plain": [
       "Text(0.5, 1.0, 'Number of confirmed cases per day')"
      ]
     },
     "execution_count": 251,
     "metadata": {},
     "output_type": "execute_result"
    },
    {
     "data": {
      "image/png": "[encoded data removed]",
      "text/plain": [
       "<Figure size 2160x1440 with 1 Axes>"
      ]
     },
     "metadata": {},
     "output_type": "display_data"
    }
   ],
   "source": [
    "plt.figure(figsize=(30,20))\n",
    "sns.lineplot(data=covid[covid.confirmed != ''].confirmed.value_counts())\n",
    "plt.title(\"Number of confirmed cases per day\")"
   ]
  },
  {
   "cell_type": "code",
   "execution_count": 244,
   "metadata": {},
   "outputs": [
    {
     "data": {
      "text/plain": [
       "2020-02-04     1\n",
       "2020-02-07     1\n",
       "2020-02-09     4\n",
       "2020-02-10     1\n",
       "2020-02-11     2\n",
       "              ..\n",
       "2020-04-24    38\n",
       "2020-04-25    46\n",
       "2020-04-26    58\n",
       "2020-04-27    35\n",
       "2020-04-28    33\n",
       "Name: discharged, Length: 77, dtype: int64"
      ]
     },
     "execution_count": 244,
     "metadata": {},
     "output_type": "execute_result"
    }
   ],
   "source": [
    "covid[covid.discharged != ''].discharged.value_counts().sort_index()\n",
    "\n",
    "#Last updated : 2020-04-28"
   ]
  },
  {
   "cell_type": "code",
   "execution_count": 238,
   "metadata": {},
   "outputs": [
    {
     "data": {
      "text/plain": [
       "Text(0.5, 1.0, 'Number of discharged cases per day')"
      ]
     },
     "execution_count": 238,
     "metadata": {},
     "output_type": "execute_result"
    },
    {
     "data": {
      "image/png": "[encoded data removed]",
      "text/plain": [
       "<Figure size 2160x1440 with 1 Axes>"
      ]
     },
     "metadata": {},
     "output_type": "display_data"
    }
   ],
   "source": [
    "plt.figure(figsize=(30,20))\n",
    "sns.lineplot(data=covid[covid.discharged != ''].discharged.value_counts())\n",
    "plt.title(\"Number of discharged cases per day\")"
   ]
  },
  {
   "cell_type": "code",
   "execution_count": 226,
   "metadata": {},
   "outputs": [],
   "source": [
    "def temp(row):\n",
    "    if row.age > 70:\n",
    "        return \"age > 70\"\n",
    "    elif row.age >50:\n",
    "        return \"50 < age < 70 \"\n",
    "    else:\n",
    "        return \"age < 50\"\n",
    "    \n",
    "age_death = covid[covid.death != ''].apply(temp, axis='columns').value_counts()"
   ]
  },
  {
   "cell_type": "code",
   "execution_count": 390,
   "metadata": {
    "scrolled": false
   },
   "outputs": [
    {
     "data": {
      "text/plain": [
       "<matplotlib.axes._subplots.AxesSubplot at 0x15c96777a88>"
      ]
     },
     "execution_count": 390,
     "metadata": {},
     "output_type": "execute_result"
    },
    {
     "data": {
      "image/png": "[encoded data removed]",
      "text/plain": [
       "<Figure size 720x720 with 1 Axes>"
      ]
     },
     "metadata": {},
     "output_type": "display_data"
    }
   ],
   "source": [
    "plt.figure(figsize=(10,10))\n",
    "sns.barplot(age_death.index,y = age_death.values)"
   ]
  },
  {
   "cell_type": "code",
   "execution_count": 391,
   "metadata": {},
   "outputs": [
    {
     "data": {
      "text/plain": [
       "<matplotlib.axes._subplots.AxesSubplot at 0x15c96818f48>"
      ]
     },
     "execution_count": 391,
     "metadata": {},
     "output_type": "execute_result"
    },
    {
     "data": {
      "image/png": "[encoded data removed]",
      "text/plain": [
       "<Figure size 720x720 with 1 Axes>"
      ]
     },
     "metadata": {},
     "output_type": "display_data"
    }
   ],
   "source": [
    "age_death.plot.pie(y='values', figsize=(10, 10))"
   ]
  },
  {
   "cell_type": "code",
   "execution_count": 375,
   "metadata": {},
   "outputs": [],
   "source": [
    "nationality_extract = covid[covid.nationality != ''].nationality.value_counts()\n"
   ]
  },
  {
   "cell_type": "code",
   "execution_count": 368,
   "metadata": {},
   "outputs": [
    {
     "data": {
      "text/plain": [
       "925"
      ]
     },
     "execution_count": 368,
     "metadata": {},
     "output_type": "execute_result"
    }
   ],
   "source": [
    "761 + 87 + 77"
   ]
  },
  {
   "cell_type": "code",
   "execution_count": 376,
   "metadata": {},
   "outputs": [],
   "source": [
    "nationality_extract = nationality_extract[:9]"
   ]
  },
  {
   "cell_type": "code",
   "execution_count": 379,
   "metadata": {},
   "outputs": [],
   "source": [
    "nationality_extract['Other'] = 925"
   ]
  },
  {
   "cell_type": "code",
   "execution_count": 387,
   "metadata": {},
   "outputs": [
    {
     "data": {
      "text/plain": [
       "<matplotlib.axes._subplots.AxesSubplot at 0x15c96706408>"
      ]
     },
     "execution_count": 387,
     "metadata": {},
     "output_type": "execute_result"
    },
    {
     "data": {
      "image/png": "[encoded data removed]",
      "text/plain": [
       "<Figure size 720x720 with 1 Axes>"
      ]
     },
     "metadata": {},
     "output_type": "display_data"
    }
   ],
   "source": [
    "nationality_extract\n",
    "nationality_extract.plot.pie(y='values', figsize=(10, 10))"
   ]
  },
  {
   "cell_type": "code",
   "execution_count": 179,
   "metadata": {
    "scrolled": true
   },
   "outputs": [
    {
     "data": {
      "text/plain": [
       "6553"
      ]
     },
     "execution_count": 179,
     "metadata": {},
     "output_type": "execute_result"
    }
   ],
   "source": [
    "covid[covid.nationality != ''].nationality.value_counts().sum()"
   ]
  },
  {
   "cell_type": "code",
   "execution_count": 194,
   "metadata": {},
   "outputs": [],
   "source": [
    "transmission_extract= covid[covid.transmissionSource != ''].transmissionSource.value_counts()"
   ]
  },
  {
   "cell_type": "code",
   "execution_count": 198,
   "metadata": {},
   "outputs": [
    {
     "data": {
      "text/plain": [
       "Text(0.5, 1.0, 'Transmission Source')"
      ]
     },
     "execution_count": 198,
     "metadata": {},
     "output_type": "execute_result"
    },
    {
     "data": {
      "image/png": "[encoded data removed]",
      "text/plain": [
       "<Figure size 720x720 with 1 Axes>"
      ]
     },
     "metadata": {},
     "output_type": "display_data"
    }
   ],
   "source": [
    "plt.figure(figsize=(10,10))\n",
    "sns.barplot(x=transmission_extract.index,y = transmission_extract.values)\n",
    "plt.title(\"Transmission Source\")"
   ]
  },
  {
   "cell_type": "code",
   "execution_count": 253,
   "metadata": {
    "scrolled": true
   },
   "outputs": [
    {
     "data": {
      "text/html": [
       "<div>\n",
       "<style scoped>\n",
       "    .dataframe tbody tr th:only-of-type {\n",
       "        vertical-align: middle;\n",
       "    }\n",
       "\n",
       "    .dataframe tbody tr th {\n",
       "        vertical-align: top;\n",
       "    }\n",
       "\n",
       "    .dataframe thead th {\n",
       "        text-align: right;\n",
       "    }\n",
       "</style>\n",
       "<table border=\"1\" class=\"dataframe\">\n",
       "  <thead>\n",
       "    <tr style=\"text-align: right;\">\n",
       "      <th></th>\n",
       "      <th>id</th>\n",
       "      <th>title</th>\n",
       "      <th>confirmed</th>\n",
       "      <th>discharged</th>\n",
       "      <th>hospital</th>\n",
       "      <th>nationality</th>\n",
       "      <th>residenceAreas</th>\n",
       "      <th>placesVisited</th>\n",
       "      <th>age</th>\n",
       "      <th>death</th>\n",
       "      <th>transmissionSource</th>\n",
       "      <th>gender</th>\n",
       "      <th>linkedClusters</th>\n",
       "    </tr>\n",
       "  </thead>\n",
       "  <tbody>\n",
       "    <tr>\n",
       "      <th>0</th>\n",
       "      <td>case-1</td>\n",
       "      <td>Case 1</td>\n",
       "      <td>2020-01-23</td>\n",
       "      <td>2020-02-19</td>\n",
       "      <td>Singapore General Hospital</td>\n",
       "      <td>Chinese</td>\n",
       "      <td>[Shangri-La Rasa Sentosa Resort &amp; Spa]</td>\n",
       "      <td>[]</td>\n",
       "      <td>66</td>\n",
       "      <td></td>\n",
       "      <td>Imported</td>\n",
       "      <td>Male</td>\n",
       "      <td>[]</td>\n",
       "    </tr>\n",
       "    <tr>\n",
       "      <th>1</th>\n",
       "      <td>case-2</td>\n",
       "      <td>Case 2</td>\n",
       "      <td>2020-01-24</td>\n",
       "      <td>2020-02-07</td>\n",
       "      <td>National Centre for Infectious Diseases</td>\n",
       "      <td>Chinese</td>\n",
       "      <td>[J8 hotel, 8 Townshend Road]</td>\n",
       "      <td>[Raffles Hospital, Tan Tock Seng Emergency Dep...</td>\n",
       "      <td>53</td>\n",
       "      <td></td>\n",
       "      <td>Imported</td>\n",
       "      <td>Female</td>\n",
       "      <td>[]</td>\n",
       "    </tr>\n",
       "    <tr>\n",
       "      <th>2</th>\n",
       "      <td>case-3</td>\n",
       "      <td>Case 3</td>\n",
       "      <td>2020-01-24</td>\n",
       "      <td>2020-02-21</td>\n",
       "      <td>Singapore General Hospital</td>\n",
       "      <td>Chinese</td>\n",
       "      <td>[]</td>\n",
       "      <td>[]</td>\n",
       "      <td>37</td>\n",
       "      <td></td>\n",
       "      <td>Imported</td>\n",
       "      <td>Male</td>\n",
       "      <td>[]</td>\n",
       "    </tr>\n",
       "    <tr>\n",
       "      <th>3</th>\n",
       "      <td>case-4</td>\n",
       "      <td>Case 4</td>\n",
       "      <td>2020-01-25</td>\n",
       "      <td>2020-02-12</td>\n",
       "      <td>Sengkang General Hospital</td>\n",
       "      <td>Chinese</td>\n",
       "      <td>[Village Hotel Sentosa]</td>\n",
       "      <td>[USS, Vivocity]</td>\n",
       "      <td>36</td>\n",
       "      <td></td>\n",
       "      <td>Imported</td>\n",
       "      <td>Male</td>\n",
       "      <td>[]</td>\n",
       "    </tr>\n",
       "    <tr>\n",
       "      <th>4</th>\n",
       "      <td>case-5</td>\n",
       "      <td>Case 5</td>\n",
       "      <td>2020-01-27</td>\n",
       "      <td>2020-02-18</td>\n",
       "      <td>National Centre for Infectious Diseases</td>\n",
       "      <td>Chinese</td>\n",
       "      <td>[Ceylon Road]</td>\n",
       "      <td>[Tan Tock Seng Hospital]</td>\n",
       "      <td>56</td>\n",
       "      <td></td>\n",
       "      <td>Imported</td>\n",
       "      <td>Female</td>\n",
       "      <td>[]</td>\n",
       "    </tr>\n",
       "    <tr>\n",
       "      <th>...</th>\n",
       "      <td>...</td>\n",
       "      <td>...</td>\n",
       "      <td>...</td>\n",
       "      <td>...</td>\n",
       "      <td>...</td>\n",
       "      <td>...</td>\n",
       "      <td>...</td>\n",
       "      <td>...</td>\n",
       "      <td>...</td>\n",
       "      <td>...</td>\n",
       "      <td>...</td>\n",
       "      <td>...</td>\n",
       "      <td>...</td>\n",
       "    </tr>\n",
       "    <tr>\n",
       "      <th>14946</th>\n",
       "      <td>case-14947</td>\n",
       "      <td>Case 14947</td>\n",
       "      <td>2020-04-28</td>\n",
       "      <td></td>\n",
       "      <td></td>\n",
       "      <td></td>\n",
       "      <td>[]</td>\n",
       "      <td>[]</td>\n",
       "      <td></td>\n",
       "      <td></td>\n",
       "      <td></td>\n",
       "      <td></td>\n",
       "      <td>[]</td>\n",
       "    </tr>\n",
       "    <tr>\n",
       "      <th>14947</th>\n",
       "      <td>case-14948</td>\n",
       "      <td>Case 14948</td>\n",
       "      <td>2020-04-28</td>\n",
       "      <td></td>\n",
       "      <td></td>\n",
       "      <td></td>\n",
       "      <td>[]</td>\n",
       "      <td>[]</td>\n",
       "      <td></td>\n",
       "      <td></td>\n",
       "      <td></td>\n",
       "      <td></td>\n",
       "      <td>[]</td>\n",
       "    </tr>\n",
       "    <tr>\n",
       "      <th>14948</th>\n",
       "      <td>case-14949</td>\n",
       "      <td>Case 14949</td>\n",
       "      <td>2020-04-28</td>\n",
       "      <td></td>\n",
       "      <td></td>\n",
       "      <td></td>\n",
       "      <td>[]</td>\n",
       "      <td>[]</td>\n",
       "      <td></td>\n",
       "      <td></td>\n",
       "      <td></td>\n",
       "      <td></td>\n",
       "      <td>[]</td>\n",
       "    </tr>\n",
       "    <tr>\n",
       "      <th>14949</th>\n",
       "      <td>case-14950</td>\n",
       "      <td>Case 14950</td>\n",
       "      <td>2020-04-28</td>\n",
       "      <td></td>\n",
       "      <td></td>\n",
       "      <td></td>\n",
       "      <td>[]</td>\n",
       "      <td>[]</td>\n",
       "      <td></td>\n",
       "      <td></td>\n",
       "      <td></td>\n",
       "      <td></td>\n",
       "      <td>[]</td>\n",
       "    </tr>\n",
       "    <tr>\n",
       "      <th>14950</th>\n",
       "      <td>case-14951</td>\n",
       "      <td>Case 14951</td>\n",
       "      <td>2020-04-28</td>\n",
       "      <td></td>\n",
       "      <td></td>\n",
       "      <td></td>\n",
       "      <td>[]</td>\n",
       "      <td>[]</td>\n",
       "      <td></td>\n",
       "      <td></td>\n",
       "      <td></td>\n",
       "      <td></td>\n",
       "      <td>[]</td>\n",
       "    </tr>\n",
       "  </tbody>\n",
       "</table>\n",
       "<p>14951 rows × 13 columns</p>\n",
       "</div>"
      ],
      "text/plain": [
       "               id       title   confirmed  discharged  \\\n",
       "0          case-1      Case 1  2020-01-23  2020-02-19   \n",
       "1          case-2      Case 2  2020-01-24  2020-02-07   \n",
       "2          case-3      Case 3  2020-01-24  2020-02-21   \n",
       "3          case-4      Case 4  2020-01-25  2020-02-12   \n",
       "4          case-5      Case 5  2020-01-27  2020-02-18   \n",
       "...           ...         ...         ...         ...   \n",
       "14946  case-14947  Case 14947  2020-04-28               \n",
       "14947  case-14948  Case 14948  2020-04-28               \n",
       "14948  case-14949  Case 14949  2020-04-28               \n",
       "14949  case-14950  Case 14950  2020-04-28               \n",
       "14950  case-14951  Case 14951  2020-04-28               \n",
       "\n",
       "                                      hospital nationality  \\\n",
       "0                   Singapore General Hospital     Chinese   \n",
       "1      National Centre for Infectious Diseases     Chinese   \n",
       "2                   Singapore General Hospital     Chinese   \n",
       "3                    Sengkang General Hospital     Chinese   \n",
       "4      National Centre for Infectious Diseases     Chinese   \n",
       "...                                        ...         ...   \n",
       "14946                                                        \n",
       "14947                                                        \n",
       "14948                                                        \n",
       "14949                                                        \n",
       "14950                                                        \n",
       "\n",
       "                               residenceAreas  \\\n",
       "0      [Shangri-La Rasa Sentosa Resort & Spa]   \n",
       "1                [J8 hotel, 8 Townshend Road]   \n",
       "2                                          []   \n",
       "3                     [Village Hotel Sentosa]   \n",
       "4                               [Ceylon Road]   \n",
       "...                                       ...   \n",
       "14946                                      []   \n",
       "14947                                      []   \n",
       "14948                                      []   \n",
       "14949                                      []   \n",
       "14950                                      []   \n",
       "\n",
       "                                           placesVisited age death  \\\n",
       "0                                                     []  66         \n",
       "1      [Raffles Hospital, Tan Tock Seng Emergency Dep...  53         \n",
       "2                                                     []  37         \n",
       "3                                        [USS, Vivocity]  36         \n",
       "4                               [Tan Tock Seng Hospital]  56         \n",
       "...                                                  ...  ..   ...   \n",
       "14946                                                 []             \n",
       "14947                                                 []             \n",
       "14948                                                 []             \n",
       "14949                                                 []             \n",
       "14950                                                 []             \n",
       "\n",
       "      transmissionSource  gender linkedClusters  \n",
       "0               Imported    Male             []  \n",
       "1               Imported  Female             []  \n",
       "2               Imported    Male             []  \n",
       "3               Imported    Male             []  \n",
       "4               Imported  Female             []  \n",
       "...                  ...     ...            ...  \n",
       "14946                                        []  \n",
       "14947                                        []  \n",
       "14948                                        []  \n",
       "14949                                        []  \n",
       "14950                                        []  \n",
       "\n",
       "[14951 rows x 13 columns]"
      ]
     },
     "execution_count": 253,
     "metadata": {},
     "output_type": "execute_result"
    }
   ],
   "source": [
    "covid"
   ]
  },
  {
   "cell_type": "code",
   "execution_count": 258,
   "metadata": {},
   "outputs": [
    {
     "data": {
      "text/plain": [
       "National Centre for Infectious Diseases    1983\n",
       "0                                          1716\n",
       "National University Hospital                585\n",
       "Khoo Teck Puat Hospital                     461\n",
       "Singapore Expo and MAX Atria (CIF)          444\n",
       "Ng Teng Fong General Hospital               392\n",
       "Singapore General Hospital                  349\n",
       "Changi General Hospital                     279\n",
       "Sengkang General Hospital                   225\n",
       "Alexandra Hospital                           58\n",
       "KK Women's and Children's Hospital           43\n",
       "TTSH                                         20\n",
       "KK Women’s and Children’s Hospital           12\n",
       "Mount Elizabeth Hospital                      4\n",
       "Mount Alvernia Hospital                       3\n",
       " Singapore General Hospital                   3\n",
       "Parkway East Hospital                         3\n",
       "Gleneagles Hospital                           2\n",
       "MEN                                           2\n",
       "Sengkang Hospital                             1\n",
       "Tan Tock Seng Hospital                        1\n",
       "Mount Elizabeth Novena Hospital               1\n",
       "RH                                            1\n",
       " Mount Elizabeth Hospital                     1\n",
       "Farrer Park Hospital                          1\n",
       "Khoo Teck Phuat Hospital                      1\n",
       "Name: hospital, dtype: int64"
      ]
     },
     "execution_count": 258,
     "metadata": {},
     "output_type": "execute_result"
    }
   ],
   "source": [
    "covid[covid.hospital != ''].hospital.value_counts()"
   ]
  },
  {
   "cell_type": "code",
   "execution_count": null,
   "metadata": {},
   "outputs": [],
   "source": []
  },
  {
   "cell_type": "code",
   "execution_count": 9,
   "metadata": {
    "scrolled": false
   },
   "outputs": [],
   "source": [
    "data = read_json('locations.json')"
   ]
  },
  {
   "cell_type": "code",
   "execution_count": 10,
   "metadata": {},
   "outputs": [
    {
     "data": {
      "text/plain": [
       "'cluster'"
      ]
     },
     "execution_count": 10,
     "metadata": {},
     "output_type": "execute_result"
    }
   ],
   "source": [
    "data['features'][0]['properties']['type']"
   ]
  },
  {
   "cell_type": "code",
   "execution_count": 11,
   "metadata": {},
   "outputs": [],
   "source": [
    "locations_cluster = []\n",
    "weights_cluster =[]\n",
    "locations_hospital = []\n",
    "weights_hospital =[]\n",
    "for dic in data['features']:\n",
    "    if dic['properties']['type'] == 'cluster':\n",
    "        locations_cluster.append(tuple(dic['geometry']['coordinates'][0][0][::-1]))\n",
    "        if 'caseCount' in dic['properties']:\n",
    "               weights_cluster.append(((dic['properties']['caseCount'])))\n",
    "        else:\n",
    "               weights_cluster.append((len(dic['properties']['cases'])))\n",
    "    if dic['properties']['type'] == 'hospital':\n",
    "        locations_hospital.append(tuple(dic['geometry']['coordinates'][0][0]))\n",
    "        weights_hospital.append(float(len(dic['properties']['cases'])))\n",
    "        "
   ]
  },
  {
   "cell_type": "code",
   "execution_count": 12,
   "metadata": {},
   "outputs": [
    {
     "data": {
      "text/plain": [
       "[23,\n",
       " 23,\n",
       " 9,\n",
       " 10,\n",
       " 3,\n",
       " 5,\n",
       " 14,\n",
       " 45,\n",
       " 6,\n",
       " 5,\n",
       " 3,\n",
       " 27,\n",
       " 11,\n",
       " 8,\n",
       " 4,\n",
       " 2302,\n",
       " 10,\n",
       " 9,\n",
       " 203,\n",
       " 13,\n",
       " 7,\n",
       " 114,\n",
       " 6,\n",
       " 8,\n",
       " 5,\n",
       " 6,\n",
       " 82,\n",
       " 901,\n",
       " 131,\n",
       " 283,\n",
       " 5,\n",
       " 90,\n",
       " 210,\n",
       " 323,\n",
       " 5,\n",
       " 108,\n",
       " 210,\n",
       " 167,\n",
       " 107,\n",
       " 5,\n",
       " 30,\n",
       " 31,\n",
       " 313,\n",
       " 72,\n",
       " 101,\n",
       " 896,\n",
       " 40,\n",
       " 44,\n",
       " 8,\n",
       " 79,\n",
       " 7,\n",
       " 7,\n",
       " 7,\n",
       " 12,\n",
       " 13,\n",
       " 118,\n",
       " 89,\n",
       " 202,\n",
       " 28,\n",
       " 176,\n",
       " 8,\n",
       " 303,\n",
       " 47,\n",
       " 144,\n",
       " 230,\n",
       " 123,\n",
       " 8,\n",
       " 95,\n",
       " 98,\n",
       " 237,\n",
       " 68,\n",
       " 136,\n",
       " 74,\n",
       " 26,\n",
       " 281,\n",
       " 300,\n",
       " 17,\n",
       " 46,\n",
       " 133,\n",
       " 100,\n",
       " 148,\n",
       " 15,\n",
       " 62,\n",
       " 57,\n",
       " 23,\n",
       " 17,\n",
       " 133,\n",
       " 33,\n",
       " 16,\n",
       " 61,\n",
       " 96,\n",
       " 60,\n",
       " 14,\n",
       " 12,\n",
       " 323,\n",
       " 203,\n",
       " 91,\n",
       " 46,\n",
       " 32,\n",
       " 71,\n",
       " 23,\n",
       " 27,\n",
       " 6,\n",
       " 5,\n",
       " 6,\n",
       " 102,\n",
       " 68,\n",
       " 27,\n",
       " 15,\n",
       " 78,\n",
       " 7,\n",
       " 58,\n",
       " 23,\n",
       " 24,\n",
       " 31,\n",
       " 22,\n",
       " 29,\n",
       " 64,\n",
       " 4,\n",
       " 15,\n",
       " 6,\n",
       " 4,\n",
       " 8,\n",
       " 11,\n",
       " 9,\n",
       " 22,\n",
       " 68,\n",
       " 19,\n",
       " 15,\n",
       " 16]"
      ]
     },
     "execution_count": 12,
     "metadata": {},
     "output_type": "execute_result"
    }
   ],
   "source": [
    "weights_cluster"
   ]
  },
  {
   "cell_type": "code",
   "execution_count": 13,
   "metadata": {
    "scrolled": true
   },
   "outputs": [
    {
     "data": {
      "text/plain": [
       "[(1.2942341, 103.8162054),\n",
       " (1.3649022, 103.7472061),\n",
       " (1.3109204, 103.8616363),\n",
       " (1.327888, 103.8906279),\n",
       " (1.30679, 103.8331),\n",
       " (1.406049, 103.864784),\n",
       " (1.2884919, 103.7789882),\n",
       " (1.3347785, 103.7056551),\n",
       " (1.3106196, 103.8631139),\n",
       " (1.3445999, 103.7755481),\n",
       " (1.3705046, 103.8458113),\n",
       " (1.3281944, 103.9384597),\n",
       " (1.30674, 103.778623),\n",
       " (1.3190448, 103.8933889),\n",
       " (1.4375866, 103.8415606),\n",
       " (1.416786, 103.895337),\n",
       " (1.332753, 103.787398),\n",
       " (1.286358, 103.848909),\n",
       " (1.3365402, 103.7512038),\n",
       " (1.3305125, 103.8394219),\n",
       " (1.409748, 103.74348),\n",
       " (1.3103732, 103.854922),\n",
       " (1.2801398, 103.8427344),\n",
       " (1.3016827, 103.649821),\n",
       " (1.2842924, 103.8607721),\n",
       " (1.2891531, 103.8517852),\n",
       " (1.2839472, 103.8496109),\n",
       " (1.3785975, 103.7168933),\n",
       " (1.3380759, 103.7520908),\n",
       " (1.4612032, 103.8172741),\n",
       " (1.3168435, 103.8940056),\n",
       " (1.3667094, 103.9284585),\n",
       " (1.4600462, 103.8190869),\n",
       " (1.4317819, 103.7588166),\n",
       " (1.2851428, 103.8514774),\n",
       " (1.3369676, 103.8836988),\n",
       " (1.4070668, 103.7532526),\n",
       " (1.4561891, 103.7970409),\n",
       " (1.4662909, 103.8121602),\n",
       " (1.3064424, 103.8621448),\n",
       " (1.2968791, 103.7813658),\n",
       " (1.4615273, 103.8091554),\n",
       " (1.45571, 103.789192),\n",
       " (1.318409, 103.732034),\n",
       " (1.3387045, 103.7547235),\n",
       " (1.31391, 103.62511),\n",
       " (1.4542005, 103.7971326),\n",
       " (1.3105425, 103.8664298),\n",
       " (1.282092, 103.8571588),\n",
       " (1.2979605, 103.8446328),\n",
       " (1.306076, 103.8283532),\n",
       " (1.3057434, 103.8310242),\n",
       " (1.3004786, 103.8491438),\n",
       " (1.3359025, 103.9073664),\n",
       " (1.3036773, 103.8591533),\n",
       " (1.3092534, 103.6295192),\n",
       " (1.4349154, 103.7479273),\n",
       " (1.419396, 103.896221),\n",
       " (1.333507, 103.692091),\n",
       " (1.3280277, 103.6941373),\n",
       " (1.321423, 103.853437),\n",
       " (1.410755, 103.7693252),\n",
       " (1.3375424, 103.9033104),\n",
       " (1.4522285, 103.7925308),\n",
       " (1.4522285, 103.7925308),\n",
       " (1.418464, 103.744949),\n",
       " (1.41651, 103.74783),\n",
       " (1.2710161, 103.6314368),\n",
       " (1.3206699, 103.7291997),\n",
       " (1.3159822, 103.7303663),\n",
       " (1.412573, 103.750545),\n",
       " (1.3377867, 103.9082644),\n",
       " (1.2705173, 103.6357002),\n",
       " (1.3118392, 103.6565574),\n",
       " (1.45017, 103.79431),\n",
       " (1.3124611, 103.9964391),\n",
       " (1.3254544, 103.8956326),\n",
       " (1.31718, 103.72788),\n",
       " (1.4638975, 103.8160426),\n",
       " (1.3286633, 103.676063),\n",
       " (1.45125, 103.79715),\n",
       " (1.42085, 103.74093),\n",
       " (1.35808, 103.96484),\n",
       " (1.3268243, 103.6759091),\n",
       " (1.39912, 103.75343),\n",
       " (1.43489, 103.74646),\n",
       " (1.2985395, 103.6278902),\n",
       " (1.2990645, 103.6280879),\n",
       " (1.3003565, 103.6285662),\n",
       " (1.4665011, 103.807495),\n",
       " (1.4017279, 103.7549682),\n",
       " (1.4042412, 103.7551448),\n",
       " (1.3121, 103.87865),\n",
       " (1.3335921, 103.6943722),\n",
       " (1.4597711, 103.7999601),\n",
       " (1.3133629, 103.6268395),\n",
       " (1.4544049, 103.8035735),\n",
       " (1.3744365, 103.9706498),\n",
       " (1.4086, 103.74356),\n",
       " (1.45981, 103.82486),\n",
       " (1.32152, 103.98693),\n",
       " (1.4065938, 103.760286),\n",
       " (1.3130146, 103.9245373),\n",
       " (1.2985986, 103.8495778),\n",
       " (1.3254614, 103.6994246),\n",
       " (1.3373491, 103.8844022),\n",
       " (1.3997676, 103.7541124),\n",
       " (1.3312796, 103.6464477),\n",
       " (1.32255, 103.72744),\n",
       " (1.25268, 103.61345),\n",
       " (1.4265882, 103.8354616),\n",
       " (1.34416, 103.89821),\n",
       " (1.29367, 103.83791),\n",
       " (1.3202, 103.75367),\n",
       " (1.3327231, 103.6935832),\n",
       " (1.4659733, 103.8038629),\n",
       " (1.33275, 103.69033),\n",
       " (1.43003, 103.74795),\n",
       " (1.3011243, 103.6277759),\n",
       " (1.46061, 103.81121),\n",
       " (1.322732, 103.6585316),\n",
       " (1.4509635, 103.8047773),\n",
       " (1.3179739, 103.6689791),\n",
       " (1.4594368, 103.7959337),\n",
       " (1.3370974, 103.7529244),\n",
       " (1.45309, 103.79503),\n",
       " (1.41529, 103.74341),\n",
       " (1.40932, 103.74848),\n",
       " (1.38799, 103.82738),\n",
       " (1.3177524, 103.6284623)]"
      ]
     },
     "execution_count": 13,
     "metadata": {},
     "output_type": "execute_result"
    }
   ],
   "source": [
    "locations_cluster"
   ]
  },
  {
   "cell_type": "code",
   "execution_count": 14,
   "metadata": {
    "scrolled": false
   },
   "outputs": [
    {
     "name": "stdout",
     "output_type": "stream",
     "text": [
      "Clusters in Singpore\n"
     ]
    },
    {
     "data": {
      "application/vnd.jupyter.widget-view+json": {
       "model_id": "c08711a0547a40ce8bebe73ecf068446",
       "version_major": 2,
       "version_minor": 0
      },
      "text/plain": [
       "Figure(layout=FigureLayout(height='420px'))"
      ]
     },
     "metadata": {},
     "output_type": "display_data"
    }
   ],
   "source": [
    "fig = gmaps.figure()\n",
    "heat_layer = gmaps.heatmap_layer(locations = locations_cluster, weights = weights_cluster)\n",
    "fig.add_layer(heat_layer)\n",
    "heat_layer.max_intensity = 150\n",
    "heat_layer.point_radius = 7\n",
    "print('Clusters in Singpore')\n",
    "fig"
   ]
  },
  {
   "cell_type": "code",
   "execution_count": 326,
   "metadata": {},
   "outputs": [],
   "source": [
    "list_pro = []\n",
    "for dic in data['features']:\n",
    "    list_pro.append(dic['properties'])"
   ]
  },
  {
   "cell_type": "code",
   "execution_count": 325,
   "metadata": {
    "scrolled": true
   },
   "outputs": [],
   "source": [
    "loca_data = pd.DataFrame(list_pro)\n"
   ]
  },
  {
   "cell_type": "code",
   "execution_count": 353,
   "metadata": {},
   "outputs": [
    {
     "data": {
      "text/plain": [
       "cluster     130\n",
       "hospital     16\n",
       "other         2\n",
       "Name: type, dtype: int64"
      ]
     },
     "execution_count": 353,
     "metadata": {},
     "output_type": "execute_result"
    }
   ],
   "source": [
    "loca_data.type.value_counts()\n"
   ]
  },
  {
   "cell_type": "code",
   "execution_count": 354,
   "metadata": {},
   "outputs": [
    {
     "data": {
      "text/html": [
       "<div>\n",
       "<style scoped>\n",
       "    .dataframe tbody tr th:only-of-type {\n",
       "        vertical-align: middle;\n",
       "    }\n",
       "\n",
       "    .dataframe tbody tr th {\n",
       "        vertical-align: top;\n",
       "    }\n",
       "\n",
       "    .dataframe thead th {\n",
       "        text-align: right;\n",
       "    }\n",
       "</style>\n",
       "<table border=\"1\" class=\"dataframe\">\n",
       "  <thead>\n",
       "    <tr style=\"text-align: right;\">\n",
       "      <th></th>\n",
       "      <th>location</th>\n",
       "      <th>type</th>\n",
       "      <th>cases</th>\n",
       "      <th>caseCount</th>\n",
       "      <th>isDorm</th>\n",
       "    </tr>\n",
       "  </thead>\n",
       "  <tbody>\n",
       "    <tr>\n",
       "      <th>130</th>\n",
       "      <td>Mei Hwan Drive</td>\n",
       "      <td>other</td>\n",
       "      <td>[50, 55, 65, 66, 68, 70, 71, 80, 83, 84, 88, 91]</td>\n",
       "      <td>NaN</td>\n",
       "      <td>False</td>\n",
       "    </tr>\n",
       "    <tr>\n",
       "      <th>131</th>\n",
       "      <td>Changi Airport (Imported Cases)</td>\n",
       "      <td>other</td>\n",
       "      <td>[1, 2, 3, 4, 5, 6, 7, 8, 9, 10, 11, 12, 13, 14...</td>\n",
       "      <td>NaN</td>\n",
       "      <td>False</td>\n",
       "    </tr>\n",
       "  </tbody>\n",
       "</table>\n",
       "</div>"
      ],
      "text/plain": [
       "                            location   type  \\\n",
       "130                   Mei Hwan Drive  other   \n",
       "131  Changi Airport (Imported Cases)  other   \n",
       "\n",
       "                                                 cases  caseCount  isDorm  \n",
       "130   [50, 55, 65, 66, 68, 70, 71, 80, 83, 84, 88, 91]        NaN   False  \n",
       "131  [1, 2, 3, 4, 5, 6, 7, 8, 9, 10, 11, 12, 13, 14...        NaN   False  "
      ]
     },
     "execution_count": 354,
     "metadata": {},
     "output_type": "execute_result"
    }
   ],
   "source": [
    "loca_data[loca_data.type == 'other']"
   ]
  },
  {
   "cell_type": "code",
   "execution_count": 347,
   "metadata": {
    "scrolled": false
   },
   "outputs": [
    {
     "data": {
      "text/html": [
       "<div>\n",
       "<style scoped>\n",
       "    .dataframe tbody tr th:only-of-type {\n",
       "        vertical-align: middle;\n",
       "    }\n",
       "\n",
       "    .dataframe tbody tr th {\n",
       "        vertical-align: top;\n",
       "    }\n",
       "\n",
       "    .dataframe thead th {\n",
       "        text-align: right;\n",
       "    }\n",
       "</style>\n",
       "<table border=\"1\" class=\"dataframe\">\n",
       "  <thead>\n",
       "    <tr style=\"text-align: right;\">\n",
       "      <th></th>\n",
       "      <th>location</th>\n",
       "      <th>type</th>\n",
       "      <th>cases</th>\n",
       "      <th>caseCount</th>\n",
       "      <th>isDorm</th>\n",
       "    </tr>\n",
       "  </thead>\n",
       "  <tbody>\n",
       "    <tr>\n",
       "      <th>15</th>\n",
       "      <td>S11 Dormitory @ Punggol (2 Seletar North Link)</td>\n",
       "      <td>cluster</td>\n",
       "      <td>[826, 829, 852, 860, 946, 947, 966, 979, 982, ...</td>\n",
       "      <td>2302.0</td>\n",
       "      <td>True</td>\n",
       "    </tr>\n",
       "    <tr>\n",
       "      <th>27</th>\n",
       "      <td>Sungei Tengah Lodge (500 Old Choa Chu Kang Road)</td>\n",
       "      <td>cluster</td>\n",
       "      <td>[1054, 1077, 1124, 1267, 1306, 1319, 1342, 136...</td>\n",
       "      <td>901.0</td>\n",
       "      <td>False</td>\n",
       "    </tr>\n",
       "    <tr>\n",
       "      <th>45</th>\n",
       "      <td>Tuas View Dormitory (70 Tuas South Avenue 1)</td>\n",
       "      <td>cluster</td>\n",
       "      <td>[1473, 1539, 1996, 2071, 2134, 2242, 2329, 233...</td>\n",
       "      <td>896.0</td>\n",
       "      <td>True</td>\n",
       "    </tr>\n",
       "    <tr>\n",
       "      <th>94</th>\n",
       "      <td>Hulett Dormitory (20 Senoko Drive)</td>\n",
       "      <td>cluster</td>\n",
       "      <td>[]</td>\n",
       "      <td>323.0</td>\n",
       "      <td>True</td>\n",
       "    </tr>\n",
       "    <tr>\n",
       "      <th>33</th>\n",
       "      <td>Kranji Lodge I (12 Kranji Road)</td>\n",
       "      <td>cluster</td>\n",
       "      <td>[880, 1190, 1241, 1506, 1519, 1520, 1630, 2141...</td>\n",
       "      <td>323.0</td>\n",
       "      <td>False</td>\n",
       "    </tr>\n",
       "    <tr>\n",
       "      <th>...</th>\n",
       "      <td>...</td>\n",
       "      <td>...</td>\n",
       "      <td>...</td>\n",
       "      <td>...</td>\n",
       "      <td>...</td>\n",
       "    </tr>\n",
       "    <tr>\n",
       "      <th>120</th>\n",
       "      <td>Hai Leck Engineering Pte Ltd (12 Tuas Drive 1)</td>\n",
       "      <td>cluster</td>\n",
       "      <td>[]</td>\n",
       "      <td>6.0</td>\n",
       "      <td>False</td>\n",
       "    </tr>\n",
       "    <tr>\n",
       "      <th>102</th>\n",
       "      <td>Natureland East Coast (907 East Coast Road)</td>\n",
       "      <td>cluster</td>\n",
       "      <td>[]</td>\n",
       "      <td>6.0</td>\n",
       "      <td>False</td>\n",
       "    </tr>\n",
       "    <tr>\n",
       "      <th>103</th>\n",
       "      <td>Strand Hotel (25 Bencoolen Street)</td>\n",
       "      <td>cluster</td>\n",
       "      <td>[]</td>\n",
       "      <td>5.0</td>\n",
       "      <td>False</td>\n",
       "    </tr>\n",
       "    <tr>\n",
       "      <th>121</th>\n",
       "      <td>Lingjack Dormitory (1 Woodlands Terrace)</td>\n",
       "      <td>cluster</td>\n",
       "      <td>[]</td>\n",
       "      <td>4.0</td>\n",
       "      <td>True</td>\n",
       "    </tr>\n",
       "    <tr>\n",
       "      <th>118</th>\n",
       "      <td>133 Tuas View Square</td>\n",
       "      <td>cluster</td>\n",
       "      <td>[]</td>\n",
       "      <td>4.0</td>\n",
       "      <td>False</td>\n",
       "    </tr>\n",
       "  </tbody>\n",
       "</table>\n",
       "<p>96 rows × 5 columns</p>\n",
       "</div>"
      ],
      "text/plain": [
       "                                             location     type  \\\n",
       "15     S11 Dormitory @ Punggol (2 Seletar North Link)  cluster   \n",
       "27   Sungei Tengah Lodge (500 Old Choa Chu Kang Road)  cluster   \n",
       "45       Tuas View Dormitory (70 Tuas South Avenue 1)  cluster   \n",
       "94                 Hulett Dormitory (20 Senoko Drive)  cluster   \n",
       "33                    Kranji Lodge I (12 Kranji Road)  cluster   \n",
       "..                                                ...      ...   \n",
       "120    Hai Leck Engineering Pte Ltd (12 Tuas Drive 1)  cluster   \n",
       "102       Natureland East Coast (907 East Coast Road)  cluster   \n",
       "103                Strand Hotel (25 Bencoolen Street)  cluster   \n",
       "121          Lingjack Dormitory (1 Woodlands Terrace)  cluster   \n",
       "118                              133 Tuas View Square  cluster   \n",
       "\n",
       "                                                 cases  caseCount  isDorm  \n",
       "15   [826, 829, 852, 860, 946, 947, 966, 979, 982, ...     2302.0    True  \n",
       "27   [1054, 1077, 1124, 1267, 1306, 1319, 1342, 136...      901.0   False  \n",
       "45   [1473, 1539, 1996, 2071, 2134, 2242, 2329, 233...      896.0    True  \n",
       "94                                                  []      323.0    True  \n",
       "33   [880, 1190, 1241, 1506, 1519, 1520, 1630, 2141...      323.0   False  \n",
       "..                                                 ...        ...     ...  \n",
       "120                                                 []        6.0   False  \n",
       "102                                                 []        6.0   False  \n",
       "103                                                 []        5.0   False  \n",
       "121                                                 []        4.0    True  \n",
       "118                                                 []        4.0   False  \n",
       "\n",
       "[96 rows x 5 columns]"
      ]
     },
     "execution_count": 347,
     "metadata": {},
     "output_type": "execute_result"
    }
   ],
   "source": [
    "loca_data[pd.notnull(loca_data.caseCount)].sort_values(by='caseCount', ascending = False)"
   ]
  },
  {
   "cell_type": "code",
   "execution_count": 346,
   "metadata": {
    "scrolled": true
   },
   "outputs": [],
   "source": [
    "def find_dorm(row):\n",
    "    if 'Dormitory' in row.location:\n",
    "        return True\n",
    "    else: \n",
    "        return False\n",
    "loca_data['isDorm'] = loca_data.apply(lambda x: find_dorm(x),axis=1)"
   ]
  },
  {
   "cell_type": "code",
   "execution_count": 350,
   "metadata": {},
   "outputs": [
    {
     "data": {
      "text/html": [
       "<div>\n",
       "<style scoped>\n",
       "    .dataframe tbody tr th:only-of-type {\n",
       "        vertical-align: middle;\n",
       "    }\n",
       "\n",
       "    .dataframe tbody tr th {\n",
       "        vertical-align: top;\n",
       "    }\n",
       "\n",
       "    .dataframe thead th {\n",
       "        text-align: right;\n",
       "    }\n",
       "</style>\n",
       "<table border=\"1\" class=\"dataframe\">\n",
       "  <thead>\n",
       "    <tr style=\"text-align: right;\">\n",
       "      <th></th>\n",
       "      <th>location</th>\n",
       "      <th>type</th>\n",
       "      <th>cases</th>\n",
       "      <th>caseCount</th>\n",
       "      <th>isDorm</th>\n",
       "    </tr>\n",
       "  </thead>\n",
       "  <tbody>\n",
       "    <tr>\n",
       "      <th>15</th>\n",
       "      <td>S11 Dormitory @ Punggol (2 Seletar North Link)</td>\n",
       "      <td>cluster</td>\n",
       "      <td>[826, 829, 852, 860, 946, 947, 966, 979, 982, ...</td>\n",
       "      <td>2302.0</td>\n",
       "      <td>True</td>\n",
       "    </tr>\n",
       "    <tr>\n",
       "      <th>20</th>\n",
       "      <td>Dormitory at 55 Sungei Kadut Loop</td>\n",
       "      <td>cluster</td>\n",
       "      <td>[868, 972, 974, 1356, 1510, 1549, 2085]</td>\n",
       "      <td>NaN</td>\n",
       "      <td>True</td>\n",
       "    </tr>\n",
       "    <tr>\n",
       "      <th>28</th>\n",
       "      <td>Toh Guan Dormitory (19A Toh Guan Road East)</td>\n",
       "      <td>cluster</td>\n",
       "      <td>[963, 1079, 1106, 1148, 1150, 1195, 1254, 1262...</td>\n",
       "      <td>131.0</td>\n",
       "      <td>True</td>\n",
       "    </tr>\n",
       "    <tr>\n",
       "      <th>31</th>\n",
       "      <td>Tampines Dormitory (2 Tampines Place)</td>\n",
       "      <td>cluster</td>\n",
       "      <td>[1049, 1140, 1193, 1226, 1299, 1261, 1313, 131...</td>\n",
       "      <td>90.0</td>\n",
       "      <td>True</td>\n",
       "    </tr>\n",
       "    <tr>\n",
       "      <th>36</th>\n",
       "      <td>Dormitory at 31 Sungei Kadut Avenue</td>\n",
       "      <td>cluster</td>\n",
       "      <td>[1549, 1731, 1735, 1830, 1831, 2209, 2245, 236...</td>\n",
       "      <td>210.0</td>\n",
       "      <td>True</td>\n",
       "    </tr>\n",
       "    <tr>\n",
       "      <th>45</th>\n",
       "      <td>Tuas View Dormitory (70 Tuas South Avenue 1)</td>\n",
       "      <td>cluster</td>\n",
       "      <td>[1473, 1539, 1996, 2071, 2134, 2242, 2329, 233...</td>\n",
       "      <td>896.0</td>\n",
       "      <td>True</td>\n",
       "    </tr>\n",
       "    <tr>\n",
       "      <th>47</th>\n",
       "      <td>85 Kallang Dormitory (85 Kallang Avenue)</td>\n",
       "      <td>cluster</td>\n",
       "      <td>[1585, 2059, 2062, 2097, 2172, 4742, 5445, 5466]</td>\n",
       "      <td>44.0</td>\n",
       "      <td>True</td>\n",
       "    </tr>\n",
       "    <tr>\n",
       "      <th>56</th>\n",
       "      <td>Kranji Dormitory (17 Kranji Way)</td>\n",
       "      <td>cluster</td>\n",
       "      <td>[2247, 2248, 2250, 2390, 2398, 2399, 3203, 328...</td>\n",
       "      <td>89.0</td>\n",
       "      <td>True</td>\n",
       "    </tr>\n",
       "    <tr>\n",
       "      <th>58</th>\n",
       "      <td>10 Kian Teck Crescent Dormitory</td>\n",
       "      <td>cluster</td>\n",
       "      <td>[1125, 1540, 1959, 2929, 3824, 5926]</td>\n",
       "      <td>28.0</td>\n",
       "      <td>True</td>\n",
       "    </tr>\n",
       "    <tr>\n",
       "      <th>59</th>\n",
       "      <td>Kian Teck Dormitory (26 Kian Teck Avenue)</td>\n",
       "      <td>cluster</td>\n",
       "      <td>[2955, 2956, 3370, 4171, 4658, 5447, 5547, 6411]</td>\n",
       "      <td>176.0</td>\n",
       "      <td>True</td>\n",
       "    </tr>\n",
       "    <tr>\n",
       "      <th>63</th>\n",
       "      <td>SJ Dormitory (180 Woodlands Industrial Park E5)</td>\n",
       "      <td>cluster</td>\n",
       "      <td>[2971, 3112, 3114, 3124, 3181, 3330, 4381, 455...</td>\n",
       "      <td>144.0</td>\n",
       "      <td>True</td>\n",
       "    </tr>\n",
       "    <tr>\n",
       "      <th>67</th>\n",
       "      <td>Tuas South Dormitory (1 Tuas South Street 12)</td>\n",
       "      <td>cluster</td>\n",
       "      <td>[1427, 1456, 2114, 2733, 3971, 4414, 5009, 504...</td>\n",
       "      <td>95.0</td>\n",
       "      <td>True</td>\n",
       "    </tr>\n",
       "    <tr>\n",
       "      <th>68</th>\n",
       "      <td>Avery Lodge Dormitory (2D Jalan Papan)</td>\n",
       "      <td>cluster</td>\n",
       "      <td>[1204, 1324, 3368, 3369, 3880, 3981, 3986, 441...</td>\n",
       "      <td>98.0</td>\n",
       "      <td>True</td>\n",
       "    </tr>\n",
       "    <tr>\n",
       "      <th>69</th>\n",
       "      <td>Jurong Penjuru Dormitory (58 Penjuru Place)</td>\n",
       "      <td>cluster</td>\n",
       "      <td>[3314, 3372, 3558, 3559, 3560, 3675, 4174, 437...</td>\n",
       "      <td>237.0</td>\n",
       "      <td>True</td>\n",
       "    </tr>\n",
       "    <tr>\n",
       "      <th>72</th>\n",
       "      <td>CDPL Tuas Dormitory (6 Tuas South Street 15)</td>\n",
       "      <td>cluster</td>\n",
       "      <td>[4657, 4697, 4702, 4768, 4921]</td>\n",
       "      <td>74.0</td>\n",
       "      <td>True</td>\n",
       "    </tr>\n",
       "    <tr>\n",
       "      <th>93</th>\n",
       "      <td>Blue Stars Dormitory (3 Kian Teck Lane)</td>\n",
       "      <td>cluster</td>\n",
       "      <td>[]</td>\n",
       "      <td>12.0</td>\n",
       "      <td>True</td>\n",
       "    </tr>\n",
       "    <tr>\n",
       "      <th>94</th>\n",
       "      <td>Hulett Dormitory (20 Senoko Drive)</td>\n",
       "      <td>cluster</td>\n",
       "      <td>[]</td>\n",
       "      <td>323.0</td>\n",
       "      <td>True</td>\n",
       "    </tr>\n",
       "    <tr>\n",
       "      <th>95</th>\n",
       "      <td>Seatown Dormitory (69H Tuas South Avenue 1)</td>\n",
       "      <td>cluster</td>\n",
       "      <td>[]</td>\n",
       "      <td>203.0</td>\n",
       "      <td>True</td>\n",
       "    </tr>\n",
       "    <tr>\n",
       "      <th>96</th>\n",
       "      <td>Woodlands Dormitory (27 Woodlands Sector 1)</td>\n",
       "      <td>cluster</td>\n",
       "      <td>[]</td>\n",
       "      <td>91.0</td>\n",
       "      <td>True</td>\n",
       "    </tr>\n",
       "    <tr>\n",
       "      <th>100</th>\n",
       "      <td>SSKBJV Dormitory (31A Tanah Merah Coast Road)</td>\n",
       "      <td>cluster</td>\n",
       "      <td>[]</td>\n",
       "      <td>23.0</td>\n",
       "      <td>True</td>\n",
       "    </tr>\n",
       "    <tr>\n",
       "      <th>121</th>\n",
       "      <td>Lingjack Dormitory (1 Woodlands Terrace)</td>\n",
       "      <td>cluster</td>\n",
       "      <td>[]</td>\n",
       "      <td>4.0</td>\n",
       "      <td>True</td>\n",
       "    </tr>\n",
       "  </tbody>\n",
       "</table>\n",
       "</div>"
      ],
      "text/plain": [
       "                                            location     type  \\\n",
       "15    S11 Dormitory @ Punggol (2 Seletar North Link)  cluster   \n",
       "20                 Dormitory at 55 Sungei Kadut Loop  cluster   \n",
       "28       Toh Guan Dormitory (19A Toh Guan Road East)  cluster   \n",
       "31             Tampines Dormitory (2 Tampines Place)  cluster   \n",
       "36               Dormitory at 31 Sungei Kadut Avenue  cluster   \n",
       "45      Tuas View Dormitory (70 Tuas South Avenue 1)  cluster   \n",
       "47          85 Kallang Dormitory (85 Kallang Avenue)  cluster   \n",
       "56                  Kranji Dormitory (17 Kranji Way)  cluster   \n",
       "58                   10 Kian Teck Crescent Dormitory  cluster   \n",
       "59         Kian Teck Dormitory (26 Kian Teck Avenue)  cluster   \n",
       "63   SJ Dormitory (180 Woodlands Industrial Park E5)  cluster   \n",
       "67     Tuas South Dormitory (1 Tuas South Street 12)  cluster   \n",
       "68            Avery Lodge Dormitory (2D Jalan Papan)  cluster   \n",
       "69       Jurong Penjuru Dormitory (58 Penjuru Place)  cluster   \n",
       "72      CDPL Tuas Dormitory (6 Tuas South Street 15)  cluster   \n",
       "93           Blue Stars Dormitory (3 Kian Teck Lane)  cluster   \n",
       "94                Hulett Dormitory (20 Senoko Drive)  cluster   \n",
       "95       Seatown Dormitory (69H Tuas South Avenue 1)  cluster   \n",
       "96       Woodlands Dormitory (27 Woodlands Sector 1)  cluster   \n",
       "100    SSKBJV Dormitory (31A Tanah Merah Coast Road)  cluster   \n",
       "121         Lingjack Dormitory (1 Woodlands Terrace)  cluster   \n",
       "\n",
       "                                                 cases  caseCount  isDorm  \n",
       "15   [826, 829, 852, 860, 946, 947, 966, 979, 982, ...     2302.0    True  \n",
       "20             [868, 972, 974, 1356, 1510, 1549, 2085]        NaN    True  \n",
       "28   [963, 1079, 1106, 1148, 1150, 1195, 1254, 1262...      131.0    True  \n",
       "31   [1049, 1140, 1193, 1226, 1299, 1261, 1313, 131...       90.0    True  \n",
       "36   [1549, 1731, 1735, 1830, 1831, 2209, 2245, 236...      210.0    True  \n",
       "45   [1473, 1539, 1996, 2071, 2134, 2242, 2329, 233...      896.0    True  \n",
       "47    [1585, 2059, 2062, 2097, 2172, 4742, 5445, 5466]       44.0    True  \n",
       "56   [2247, 2248, 2250, 2390, 2398, 2399, 3203, 328...       89.0    True  \n",
       "58                [1125, 1540, 1959, 2929, 3824, 5926]       28.0    True  \n",
       "59    [2955, 2956, 3370, 4171, 4658, 5447, 5547, 6411]      176.0    True  \n",
       "63   [2971, 3112, 3114, 3124, 3181, 3330, 4381, 455...      144.0    True  \n",
       "67   [1427, 1456, 2114, 2733, 3971, 4414, 5009, 504...       95.0    True  \n",
       "68   [1204, 1324, 3368, 3369, 3880, 3981, 3986, 441...       98.0    True  \n",
       "69   [3314, 3372, 3558, 3559, 3560, 3675, 4174, 437...      237.0    True  \n",
       "72                      [4657, 4697, 4702, 4768, 4921]       74.0    True  \n",
       "93                                                  []       12.0    True  \n",
       "94                                                  []      323.0    True  \n",
       "95                                                  []      203.0    True  \n",
       "96                                                  []       91.0    True  \n",
       "100                                                 []       23.0    True  \n",
       "121                                                 []        4.0    True  "
      ]
     },
     "execution_count": 350,
     "metadata": {},
     "output_type": "execute_result"
    }
   ],
   "source": [
    "loca_data[loca_data.isDorm == True]"
   ]
  },
  {
   "cell_type": "code",
   "execution_count": 404,
   "metadata": {},
   "outputs": [],
   "source": [
    "locations = read_json('covid-sg.json')"
   ]
  },
  {
   "cell_type": "code",
   "execution_count": 405,
   "metadata": {
    "scrolled": true
   },
   "outputs": [
    {
     "data": {
      "application/vnd.jupyter.widget-view+json": {
       "model_id": "528978cf1554474493cd5a1960a7170b",
       "version_major": 2,
       "version_minor": 0
      },
      "text/plain": [
       "Figure(layout=FigureLayout(height='420px'))"
      ]
     },
     "metadata": {},
     "output_type": "display_data"
    }
   ],
   "source": [
    "fig = gmaps.figure()\n",
    "geojson = gmaps.geojson_layer(locations)\n",
    "fig.add_layer(geojson)\n",
    "print ('Coordinates of the place of residence (other fallback values might include locations such as location of hospitalisation, if the former is not made available)')\n",
    "fig"
   ]
  }
 ],
 "metadata": {
  "kernelspec": {
   "display_name": "Python 3",
   "language": "python",
   "name": "python3"
  },
  "language_info": {
   "codemirror_mode": {
    "name": "ipython",
    "version": 3
   },
   "file_extension": ".py",
   "mimetype": "text/x-python",
   "name": "python",
   "nbconvert_exporter": "python",
   "pygments_lexer": "ipython3",
   "version": "3.7.6"
  }
 },
 "nbformat": 4,
 "nbformat_minor": 4
}
